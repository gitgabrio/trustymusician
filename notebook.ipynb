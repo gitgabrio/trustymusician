from music21 import converter,instrument # or import *
file = converter.parse('JeSuisRobert.mid')
components = []
for element in file.recurse():
    components.append(element)
components.head()
