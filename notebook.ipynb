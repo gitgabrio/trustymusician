#%%

from music21 import converter,instrument # or import *


#%% md

# Step 1 - Load and prepare data
Data are usually available as unstructure files with text (csv) or binary (parquet, avro) format and there are many libraries to load them from a local or remote storage.

After the loading step it is quite common to perform some preparation/cleanup actions: check domain boundaries, handle missing values, normalize strings, convert enumaration to number, etc.

#%%

file = converter.parse('JeSuisRobert.mid')
components = []
for element in file.recurse():
    components.append(element)
components.head()
